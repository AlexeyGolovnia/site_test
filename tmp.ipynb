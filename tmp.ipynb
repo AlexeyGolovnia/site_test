{
 "cells": [
  {
   "cell_type": "code",
   "execution_count": 2,
   "metadata": {},
   "outputs": [
    {
     "data": {
      "text/plain": [
       "4"
      ]
     },
     "execution_count": 2,
     "metadata": {},
     "output_type": "execute_result"
    }
   ],
   "source": [
    "1+3"
   ]
  },
  {
   "cell_type": "code",
   "execution_count": 2,
   "metadata": {},
   "outputs": [
    {
     "name": "stdout",
     "output_type": "stream",
     "text": [
      "Package            Version\n",
      "------------------ -----------\n",
      "asttokens          2.4.1\n",
      "blinker            1.8.2\n",
      "click              8.1.7\n",
      "comm               0.2.2\n",
      "debugpy            1.8.1\n",
      "decorator          5.1.1\n",
      "exceptiongroup     1.2.1\n",
      "executing          2.0.1\n",
      "Flask              3.0.3\n",
      "gunicorn           22.0.0\n",
      "importlib_metadata 7.1.0\n",
      "ipykernel          6.29.4\n",
      "ipython            8.18.1\n",
      "itsdangerous       2.2.0\n",
      "jedi               0.19.1\n",
      "Jinja2             3.1.4\n",
      "jupyter_client     8.6.2\n",
      "jupyter_core       5.7.2\n",
      "MarkupSafe         2.1.5\n",
      "matplotlib-inline  0.1.7\n",
      "nest-asyncio       1.6.0\n",
      "packaging          24.1\n",
      "parso              0.8.4\n",
      "pexpect            4.9.0\n",
      "pip                24.0\n",
      "platformdirs       4.2.2\n",
      "prompt_toolkit     3.0.47\n",
      "psutil             5.9.8\n",
      "ptyprocess         0.7.0\n",
      "pure-eval          0.2.2\n",
      "Pygments           2.18.0\n",
      "python-dateutil    2.9.0.post0\n",
      "pyzmq              26.0.3\n",
      "six                1.16.0\n",
      "stack-data         0.6.3\n",
      "tornado            6.4.1\n",
      "traitlets          5.14.3\n",
      "typing_extensions  4.12.2\n",
      "wcwidth            0.2.13\n",
      "Werkzeug           3.0.3\n",
      "zipp               3.19.2\n"
     ]
    }
   ],
   "source": [
    "!pip list"
   ]
  },
  {
   "cell_type": "code",
   "execution_count": 1,
   "metadata": {},
   "outputs": [
    {
     "name": "stdout",
     "output_type": "stream",
     "text": [
      "CONTAINER ID   IMAGE          COMMAND                  CREATED             STATUS             PORTS                                                                      NAMES\n",
      "352fa5b42787   my_site-web    \"gunicorn --bind 0.0…\"   About an hour ago   Up About an hour   0.0.0.0:5000->5000/tcp, :::5000->5000/tcp                                  my_site-web-1\n",
      "160519c7ea9d   nginx:latest   \"/docker-entrypoint.…\"   About an hour ago   Up About an hour   0.0.0.0:80->80/tcp, :::80->80/tcp, 0.0.0.0:443->443/tcp, :::443->443/tcp   my_site-nginx-1\n"
     ]
    }
   ],
   "source": [
    "!docker ps"
   ]
  },
  {
   "cell_type": "code",
   "execution_count": null,
   "metadata": {},
   "outputs": [],
   "source": []
  }
 ],
 "metadata": {
  "kernelspec": {
   "display_name": ".venv",
   "language": "python",
   "name": "python3"
  },
  "language_info": {
   "codemirror_mode": {
    "name": "ipython",
    "version": 3
   },
   "file_extension": ".py",
   "mimetype": "text/x-python",
   "name": "python",
   "nbconvert_exporter": "python",
   "pygments_lexer": "ipython3",
   "version": "3.9.2"
  }
 },
 "nbformat": 4,
 "nbformat_minor": 2
}
